{
 "cells": [
  {
   "cell_type": "markdown",
   "metadata": {},
   "source": [
    "# Model Training"
   ]
  },
  {
   "cell_type": "code",
   "execution_count": 13,
   "metadata": {},
   "outputs": [],
   "source": [
    "# Basic Import\n",
    "import numpy as np\n",
    "import pandas as pd\n",
    "import matplotlib.pyplot as plt \n",
    "import seaborn as sns\n",
    "# Modelling\n",
    "from sklearn.neighbors import KNeighborsClassifier\n",
    "from sklearn.tree import DecisionTreeClassifier\n",
    "from sklearn.ensemble import RandomForestClassifier,AdaBoostClassifier\n",
    "from sklearn.svm import SVC\n",
    "from sklearn.linear_model import LogisticRegression\n",
    "from sklearn.model_selection import RandomizedSearchCV\n",
    "import warnings"
   ]
  },
  {
   "cell_type": "code",
   "execution_count": 14,
   "metadata": {},
   "outputs": [
    {
     "data": {
      "text/html": [
       "<div>\n",
       "<style scoped>\n",
       "    .dataframe tbody tr th:only-of-type {\n",
       "        vertical-align: middle;\n",
       "    }\n",
       "\n",
       "    .dataframe tbody tr th {\n",
       "        vertical-align: top;\n",
       "    }\n",
       "\n",
       "    .dataframe thead th {\n",
       "        text-align: right;\n",
       "    }\n",
       "</style>\n",
       "<table border=\"1\" class=\"dataframe\">\n",
       "  <thead>\n",
       "    <tr style=\"text-align: right;\">\n",
       "      <th></th>\n",
       "      <th>loan_id</th>\n",
       "      <th>no_of_dependents</th>\n",
       "      <th>education</th>\n",
       "      <th>self_employed</th>\n",
       "      <th>income_annum</th>\n",
       "      <th>loan_amount</th>\n",
       "      <th>loan_term</th>\n",
       "      <th>cibil_score</th>\n",
       "      <th>residential_assets_value</th>\n",
       "      <th>commercial_assets_value</th>\n",
       "      <th>luxury_assets_value</th>\n",
       "      <th>bank_asset_value</th>\n",
       "      <th>loan_status</th>\n",
       "    </tr>\n",
       "  </thead>\n",
       "  <tbody>\n",
       "    <tr>\n",
       "      <th>0</th>\n",
       "      <td>1</td>\n",
       "      <td>2</td>\n",
       "      <td>Graduate</td>\n",
       "      <td>No</td>\n",
       "      <td>9600000</td>\n",
       "      <td>29900000</td>\n",
       "      <td>12</td>\n",
       "      <td>778</td>\n",
       "      <td>2400000</td>\n",
       "      <td>17600000</td>\n",
       "      <td>22700000</td>\n",
       "      <td>8000000</td>\n",
       "      <td>Approved</td>\n",
       "    </tr>\n",
       "    <tr>\n",
       "      <th>1</th>\n",
       "      <td>2</td>\n",
       "      <td>0</td>\n",
       "      <td>Not Graduate</td>\n",
       "      <td>Yes</td>\n",
       "      <td>4100000</td>\n",
       "      <td>12200000</td>\n",
       "      <td>8</td>\n",
       "      <td>417</td>\n",
       "      <td>2700000</td>\n",
       "      <td>2200000</td>\n",
       "      <td>8800000</td>\n",
       "      <td>3300000</td>\n",
       "      <td>Rejected</td>\n",
       "    </tr>\n",
       "    <tr>\n",
       "      <th>2</th>\n",
       "      <td>3</td>\n",
       "      <td>3</td>\n",
       "      <td>Graduate</td>\n",
       "      <td>No</td>\n",
       "      <td>9100000</td>\n",
       "      <td>29700000</td>\n",
       "      <td>20</td>\n",
       "      <td>506</td>\n",
       "      <td>7100000</td>\n",
       "      <td>4500000</td>\n",
       "      <td>33300000</td>\n",
       "      <td>12800000</td>\n",
       "      <td>Rejected</td>\n",
       "    </tr>\n",
       "    <tr>\n",
       "      <th>3</th>\n",
       "      <td>4</td>\n",
       "      <td>3</td>\n",
       "      <td>Graduate</td>\n",
       "      <td>No</td>\n",
       "      <td>8200000</td>\n",
       "      <td>30700000</td>\n",
       "      <td>8</td>\n",
       "      <td>467</td>\n",
       "      <td>18200000</td>\n",
       "      <td>3300000</td>\n",
       "      <td>23300000</td>\n",
       "      <td>7900000</td>\n",
       "      <td>Rejected</td>\n",
       "    </tr>\n",
       "    <tr>\n",
       "      <th>4</th>\n",
       "      <td>5</td>\n",
       "      <td>5</td>\n",
       "      <td>Not Graduate</td>\n",
       "      <td>Yes</td>\n",
       "      <td>9800000</td>\n",
       "      <td>24200000</td>\n",
       "      <td>20</td>\n",
       "      <td>382</td>\n",
       "      <td>12400000</td>\n",
       "      <td>8200000</td>\n",
       "      <td>29400000</td>\n",
       "      <td>5000000</td>\n",
       "      <td>Rejected</td>\n",
       "    </tr>\n",
       "  </tbody>\n",
       "</table>\n",
       "</div>"
      ],
      "text/plain": [
       "   loan_id   no_of_dependents      education  self_employed   income_annum  \\\n",
       "0        1                  2       Graduate             No        9600000   \n",
       "1        2                  0   Not Graduate            Yes        4100000   \n",
       "2        3                  3       Graduate             No        9100000   \n",
       "3        4                  3       Graduate             No        8200000   \n",
       "4        5                  5   Not Graduate            Yes        9800000   \n",
       "\n",
       "    loan_amount   loan_term   cibil_score   residential_assets_value  \\\n",
       "0      29900000          12           778                    2400000   \n",
       "1      12200000           8           417                    2700000   \n",
       "2      29700000          20           506                    7100000   \n",
       "3      30700000           8           467                   18200000   \n",
       "4      24200000          20           382                   12400000   \n",
       "\n",
       "    commercial_assets_value   luxury_assets_value   bank_asset_value  \\\n",
       "0                  17600000              22700000            8000000   \n",
       "1                   2200000               8800000            3300000   \n",
       "2                   4500000              33300000           12800000   \n",
       "3                   3300000              23300000            7900000   \n",
       "4                   8200000              29400000            5000000   \n",
       "\n",
       "   loan_status  \n",
       "0     Approved  \n",
       "1     Rejected  \n",
       "2     Rejected  \n",
       "3     Rejected  \n",
       "4     Rejected  "
      ]
     },
     "execution_count": 14,
     "metadata": {},
     "output_type": "execute_result"
    }
   ],
   "source": [
    "dataset=pd.read_csv('data/loan_approval_dataset.csv')\n",
    "dataset.head()"
   ]
  },
  {
   "cell_type": "code",
   "execution_count": 15,
   "metadata": {},
   "outputs": [],
   "source": [
    "q1=dataset[' residential_assets_value'].quantile(0.25)\n",
    "q2=dataset[' residential_assets_value'].quantile(0.75)\n",
    "q1_c=dataset[' commercial_assets_value'].quantile(0.25)\n",
    "q2_c=dataset[' commercial_assets_value'].quantile(0.75)\n",
    "IQR=q2-q1\n",
    "IQR_c=q2_c-q1_c"
   ]
  },
  {
   "cell_type": "code",
   "execution_count": 16,
   "metadata": {},
   "outputs": [
    {
     "data": {
      "text/plain": [
       "(4182, 13)"
      ]
     },
     "execution_count": 16,
     "metadata": {},
     "output_type": "execute_result"
    }
   ],
   "source": [
    "max_val=q2+1.5*IQR\n",
    "max_val_c=q2_c+1.5*IQR_c\n",
    "dataset=dataset[dataset[' residential_assets_value']<max_val]\n",
    "dataset=dataset[dataset[' commercial_assets_value']<max_val_c]\n",
    "dataset.shape"
   ]
  },
  {
   "cell_type": "code",
   "execution_count": 17,
   "metadata": {},
   "outputs": [],
   "source": [
    "X=dataset.drop(columns=[' loan_status'])\n",
    "y=dataset[' loan_status']"
   ]
  },
  {
   "cell_type": "code",
   "execution_count": 18,
   "metadata": {},
   "outputs": [
    {
     "data": {
      "text/plain": [
       "Index([' education', ' self_employed'], dtype='object')"
      ]
     },
     "execution_count": 18,
     "metadata": {},
     "output_type": "execute_result"
    }
   ],
   "source": [
    "# Create Column Transformer with 3 types of transformers\n",
    "num_features = X.select_dtypes(exclude=\"object\").columns\n",
    "cat_features = X.select_dtypes(include=\"object\").columns\n",
    "\n",
    "from sklearn.preprocessing import OneHotEncoder, StandardScaler\n",
    "from sklearn.compose import ColumnTransformer\n",
    "\n",
    "numeric_transformer = StandardScaler()\n",
    "oh_transformer = OneHotEncoder()\n",
    "\n",
    "preprocessor = ColumnTransformer(\n",
    "    [\n",
    "        (\"OneHotEncoder\", oh_transformer, cat_features),\n",
    "         (\"StandardScaler\", numeric_transformer, num_features),        \n",
    "    ]\n",
    ")\n",
    "cat_features"
   ]
  },
  {
   "cell_type": "code",
   "execution_count": 19,
   "metadata": {},
   "outputs": [
    {
     "data": {
      "text/plain": [
       "array([[ 0.        ,  1.        ,  0.        , ..., -0.62309647,\n",
       "        -0.67556925, -0.49580784],\n",
       "       [ 1.        ,  0.        ,  1.        , ..., -0.07614132,\n",
       "         2.04561226,  2.47778177],\n",
       "       [ 1.        ,  0.        ,  1.        , ..., -0.36150922,\n",
       "         0.93492593,  0.94403555],\n",
       "       ...,\n",
       "       [ 0.        ,  1.        ,  1.        , ...,  1.80253069,\n",
       "         0.35736904,  0.75622989],\n",
       "       [ 0.        ,  1.        ,  1.        , ..., -0.97980634,\n",
       "        -0.0869055 ,  0.28671574],\n",
       "       [ 1.        ,  0.        ,  1.        , ...,  1.65984674,\n",
       "         2.31217698,  2.22737422]], shape=(4182, 14))"
      ]
     },
     "execution_count": 19,
     "metadata": {},
     "output_type": "execute_result"
    }
   ],
   "source": [
    "X = preprocessor.fit_transform(X)\n",
    "X"
   ]
  },
  {
   "cell_type": "markdown",
   "metadata": {},
   "source": [
    "# Separate dataset into train and test"
   ]
  },
  {
   "cell_type": "code",
   "execution_count": 20,
   "metadata": {},
   "outputs": [
    {
     "data": {
      "text/plain": [
       "((3345, 14), (837, 14))"
      ]
     },
     "execution_count": 20,
     "metadata": {},
     "output_type": "execute_result"
    }
   ],
   "source": [
    "from sklearn.model_selection import train_test_split\n",
    "X_train, X_test, y_train, y_test = train_test_split(X,y,test_size=0.2,random_state=42)\n",
    "X_train.shape, X_test.shape"
   ]
  },
  {
   "cell_type": "markdown",
   "metadata": {},
   "source": [
    "### Create an Evaluate Function to give all metrics after model Training\n"
   ]
  },
  {
   "cell_type": "code",
   "execution_count": 21,
   "metadata": {},
   "outputs": [
    {
     "name": "stdout",
     "output_type": "stream",
     "text": [
      "Logistic Regression\n",
      "Model performance for Training set\n",
      "- Accuracy: 0.9229\n",
      "- F1 Score: 0.9176\n",
      "- ROC AUC: 0.9714\n",
      "----------------------------------\n",
      "Model performance for Test set\n",
      "- Accuracy: 0.9188\n",
      "- F1 Score: 0.9150\n",
      "- ROC AUC: 0.9586\n",
      "===================================\n",
      "\n",
      "\n",
      "K-Neighbors Classifier\n",
      "Model performance for Training set\n",
      "- Accuracy: 0.9306\n",
      "- F1 Score: 0.9260\n",
      "- ROC AUC: 0.9811\n",
      "----------------------------------\n",
      "Model performance for Test set\n",
      "- Accuracy: 0.8817\n",
      "- F1 Score: 0.8768\n",
      "- ROC AUC: 0.9495\n",
      "===================================\n",
      "\n",
      "\n",
      "Decision Tree\n",
      "Model performance for Training set\n",
      "- Accuracy: 1.0000\n",
      "- F1 Score: 1.0000\n",
      "- ROC AUC: 1.0000\n",
      "----------------------------------\n",
      "Model performance for Test set\n",
      "- Accuracy: 0.9677\n",
      "- F1 Score: 0.9661\n",
      "- ROC AUC: 0.9653\n",
      "===================================\n",
      "\n",
      "\n",
      "Random Forest Classifier\n",
      "Model performance for Training set\n",
      "- Accuracy: 1.0000\n",
      "- F1 Score: 1.0000\n",
      "- ROC AUC: 1.0000\n",
      "----------------------------------\n",
      "Model performance for Test set\n",
      "- Accuracy: 0.9785\n",
      "- F1 Score: 0.9774\n",
      "- ROC AUC: 0.9964\n",
      "===================================\n",
      "\n",
      "\n",
      "Support Vector Classifier\n",
      "Model performance for Training set\n",
      "- Accuracy: 0.9596\n",
      "- F1 Score: 0.9569\n",
      "- ROC AUC: 0.9891\n",
      "----------------------------------\n",
      "Model performance for Test set\n",
      "- Accuracy: 0.9283\n",
      "- F1 Score: 0.9253\n",
      "- ROC AUC: 0.9785\n",
      "===================================\n",
      "\n",
      "\n",
      "AdaBoostClassifier\n",
      "Model performance for Training set\n",
      "- Accuracy: 0.9713\n",
      "- F1 Score: 0.9693\n",
      "- ROC AUC: 0.9974\n",
      "----------------------------------\n",
      "Model performance for Test set\n",
      "- Accuracy: 0.9546\n",
      "- F1 Score: 0.9523\n",
      "- ROC AUC: 0.9928\n",
      "===================================\n",
      "\n",
      "\n",
      "Model Performance Comparison:\n",
      "                       Model  Test Accuracy  Test F1 Score  Test ROC AUC\n",
      "3   Random Forest Classifier       0.978495       0.977390      0.996400\n",
      "5         AdaBoostClassifier       0.954600       0.952321      0.992791\n",
      "4  Support Vector Classifier       0.928315       0.925343      0.978452\n",
      "2              Decision Tree       0.967742       0.966104      0.965346\n",
      "0        Logistic Regression       0.918757       0.914954      0.958557\n",
      "1     K-Neighbors Classifier       0.881720       0.876755      0.949453\n"
     ]
    }
   ],
   "source": [
    "from sklearn.metrics import accuracy_score, f1_score, roc_auc_score\n",
    "from sklearn.preprocessing import LabelBinarizer\n",
    "import numpy as np\n",
    "\n",
    "def evaluate_classifier_simple(y_true, y_pred, y_pred_proba):\n",
    "    \"\"\"\n",
    "    Calculates key evaluation metrics for a classification model.\n",
    "    \n",
    "    Args:\n",
    "        y_true (array-like): Ground truth (correct) labels.\n",
    "        y_pred (array-like): Predicted labels.\n",
    "        y_pred_proba (array-like): Predicted probabilities.\n",
    "\n",
    "    Returns:\n",
    "        tuple: A tuple containing accuracy, F1-score, and ROC AUC score.\n",
    "    \"\"\"\n",
    "    # 1. Accuracy: Overall proportion of correct predictions.\n",
    "    accuracy = accuracy_score(y_true, y_pred)\n",
    "    \n",
    "    # 2. F1-Score: Harmonic mean of precision and recall.\n",
    "    f1 = f1_score(y_true, y_pred, average='macro', zero_division=0)\n",
    "    \n",
    "    # 3. ROC AUC Score: Handle both binary and multi-class cases\n",
    "    n_classes = y_pred_proba.shape[1] if hasattr(y_pred_proba, 'shape') and len(y_pred_proba.shape) > 1 else 2\n",
    "    \n",
    "    if n_classes == 2:\n",
    "        # Binary classification: use probabilities for positive class\n",
    "        if y_pred_proba.ndim > 1 and y_pred_proba.shape[1] == 2:\n",
    "            roc_auc = roc_auc_score(y_true, y_pred_proba[:, 1])\n",
    "        else:\n",
    "            roc_auc = roc_auc_score(y_true, y_pred_proba)\n",
    "    else:\n",
    "        # Multi-class classification: use one-vs-rest approach\n",
    "        # Convert true labels to one-hot encoding for multi-class ROC AUC\n",
    "        lb = LabelBinarizer()\n",
    "        y_true_binarized = lb.fit_transform(y_true)\n",
    "        roc_auc = roc_auc_score(y_true_binarized, y_pred_proba, multi_class='ovr')\n",
    "    \n",
    "    return accuracy, f1, roc_auc\n",
    "\n",
    "models = {\n",
    "    \"Logistic Regression\": LogisticRegression(),\n",
    "    \"K-Neighbors Classifier\": KNeighborsClassifier(),\n",
    "    \"Decision Tree\": DecisionTreeClassifier(),\n",
    "    \"Random Forest Classifier\": RandomForestClassifier(),\n",
    "    \"Support Vector Classifier\": SVC(probability=True),\n",
    "    'AdaBoostClassifier': AdaBoostClassifier()\n",
    "}\n",
    "\n",
    "model_list = []\n",
    "accuracy_list = []\n",
    "f1_list = []\n",
    "roc_auc_list = []\n",
    "\n",
    "for name, model in models.items():\n",
    "    # Train model\n",
    "    model.fit(X_train, y_train)\n",
    "\n",
    "    # Make predictions\n",
    "    y_train_pred = model.predict(X_train)\n",
    "    y_test_pred = model.predict(X_test)\n",
    "    \n",
    "    # Get predicted probabilities\n",
    "    y_train_proba = model.predict_proba(X_train)\n",
    "    y_test_proba = model.predict_proba(X_test)\n",
    "\n",
    "    # Evaluate Train and Test dataset\n",
    "    model_train_accuracy, model_train_f1, model_train_roc_auc = evaluate_classifier_simple(\n",
    "        y_train, y_train_pred, y_train_proba\n",
    "    )\n",
    "    \n",
    "    model_test_accuracy, model_test_f1, model_test_roc_auc = evaluate_classifier_simple(\n",
    "        y_test, y_test_pred, y_test_proba\n",
    "    )\n",
    "\n",
    "    print(name)\n",
    "    model_list.append(name)\n",
    "    \n",
    "    print('Model performance for Training set')\n",
    "    print(\"- Accuracy: {:.4f}\".format(model_train_accuracy))\n",
    "    print(\"- F1 Score: {:.4f}\".format(model_train_f1))\n",
    "    print(\"- ROC AUC: {:.4f}\".format(model_train_roc_auc))\n",
    "    print('----------------------------------')\n",
    "    \n",
    "    print('Model performance for Test set')\n",
    "    print(\"- Accuracy: {:.4f}\".format(model_test_accuracy))\n",
    "    print(\"- F1 Score: {:.4f}\".format(model_test_f1))\n",
    "    print(\"- ROC AUC: {:.4f}\".format(model_test_roc_auc))\n",
    "    print('=' * 35)\n",
    "    print('\\n')\n",
    "    \n",
    "    # Store results for comparison\n",
    "    accuracy_list.append(model_test_accuracy)\n",
    "    f1_list.append(model_test_f1)\n",
    "    roc_auc_list.append(model_test_roc_auc)\n",
    "\n",
    "# Optional: Create a results dataframe for easy comparison\n",
    "import pandas as pd\n",
    "results_df = pd.DataFrame({\n",
    "    'Model': model_list,\n",
    "    'Test Accuracy': accuracy_list,\n",
    "    'Test F1 Score': f1_list,\n",
    "    'Test ROC AUC': roc_auc_list\n",
    "}).sort_values('Test ROC AUC', ascending=False)\n",
    "\n",
    "print(\"Model Performance Comparison:\")\n",
    "print(results_df)"
   ]
  },
  {
   "cell_type": "code",
   "execution_count": 22,
   "metadata": {},
   "outputs": [],
   "source": [
    "y_pred_train = models['Decision Tree'].predict(X_train)"
   ]
  },
  {
   "cell_type": "markdown",
   "metadata": {},
   "source": [
    "### Decission Tree Performs the best"
   ]
  },
  {
   "cell_type": "code",
   "execution_count": 23,
   "metadata": {},
   "outputs": [
    {
     "name": "stdout",
     "output_type": "stream",
     "text": [
      " Accuracy of the model is 96.54\n",
      " Accuracy of the Training data is 100.00\n"
     ]
    }
   ],
   "source": [
    "dt_model = DecisionTreeClassifier()\n",
    "dt_model = dt_model.fit(X_train, y_train)\n",
    "y_pred = dt_model.predict(X_test)\n",
    "score = accuracy_score(y_test, y_pred)*100\n",
    "train_score = accuracy_score(y_train, y_pred_train)*100\n",
    "print(\" Accuracy of the model is %.2f\" %score)\n",
    "print(\" Accuracy of the Training data is %.2f\" %train_score)\n"
   ]
  },
  {
   "cell_type": "code",
   "execution_count": 24,
   "metadata": {},
   "outputs": [
    {
     "data": {
      "image/png": "[encoded data removed]",
      "text/plain": [
       "<Figure size 640x480 with 1 Axes>"
      ]
     },
     "metadata": {},
     "output_type": "display_data"
    }
   ],
   "source": [
    "plt.scatter(y_test,y_pred);\n",
    "plt.xlabel('Actual');\n",
    "plt.ylabel('Predicted');"
   ]
  },
  {
   "cell_type": "code",
   "execution_count": null,
   "metadata": {},
   "outputs": [],
   "source": []
  }
 ],
 "metadata": {
  "kernelspec": {
   "display_name": ".venv",
   "language": "python",
   "name": "python3"
  },
  "language_info": {
   "codemirror_mode": {
    "name": "ipython",
    "version": 3
   },
   "file_extension": ".py",
   "mimetype": "text/x-python",
   "name": "python",
   "nbconvert_exporter": "python",
   "pygments_lexer": "ipython3",
   "version": "3.13.7"
  }
 },
 "nbformat": 4,
 "nbformat_minor": 2
}
